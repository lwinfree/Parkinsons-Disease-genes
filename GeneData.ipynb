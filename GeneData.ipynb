{
 "cells": [
  {
   "cell_type": "code",
   "execution_count": 90,
   "metadata": {
    "collapsed": true
   },
   "outputs": [],
   "source": [
    "import numpy as np\n",
    "import pandas as pd\n",
    "#read in data\n",
    "geneData=pd.read_csv('PythonGeneData/GeneD.csv')"
   ]
  },
  {
   "cell_type": "code",
   "execution_count": 91,
   "metadata": {
    "collapsed": false
   },
   "outputs": [
    {
     "data": {
      "text/plain": [
       "pandas.core.frame.DataFrame"
      ]
     },
     "execution_count": 91,
     "metadata": {},
     "output_type": "execute_result"
    }
   ],
   "source": [
    "type(geneData)"
   ]
  },
  {
   "cell_type": "code",
   "execution_count": 92,
   "metadata": {
    "collapsed": false
   },
   "outputs": [
    {
     "data": {
      "text/html": [
       "<div>\n",
       "<table border=\"1\" class=\"dataframe\">\n",
       "  <thead>\n",
       "    <tr style=\"text-align: right;\">\n",
       "      <th></th>\n",
       "      <th>Item Name</th>\n",
       "      <th>Gene</th>\n",
       "      <th>Voxel Count</th>\n",
       "      <th>Mean of Background</th>\n",
       "      <th>Sum of Signal</th>\n",
       "      <th>Signal</th>\n",
       "    </tr>\n",
       "  </thead>\n",
       "  <tbody>\n",
       "    <tr>\n",
       "      <th>0</th>\n",
       "      <td>C1</td>\n",
       "      <td>C</td>\n",
       "      <td>1233</td>\n",
       "      <td>12.76</td>\n",
       "      <td>70055</td>\n",
       "      <td>54321.92</td>\n",
       "    </tr>\n",
       "    <tr>\n",
       "      <th>1</th>\n",
       "      <td>C2</td>\n",
       "      <td>C</td>\n",
       "      <td>1570</td>\n",
       "      <td>14.49</td>\n",
       "      <td>88238</td>\n",
       "      <td>65488.70</td>\n",
       "    </tr>\n",
       "    <tr>\n",
       "      <th>2</th>\n",
       "      <td>C3</td>\n",
       "      <td>C</td>\n",
       "      <td>807</td>\n",
       "      <td>9.46</td>\n",
       "      <td>48240</td>\n",
       "      <td>40605.78</td>\n",
       "    </tr>\n",
       "    <tr>\n",
       "      <th>3</th>\n",
       "      <td>C4</td>\n",
       "      <td>C</td>\n",
       "      <td>696</td>\n",
       "      <td>11.68</td>\n",
       "      <td>40942</td>\n",
       "      <td>32812.72</td>\n",
       "    </tr>\n",
       "    <tr>\n",
       "      <th>4</th>\n",
       "      <td>C5</td>\n",
       "      <td>C</td>\n",
       "      <td>570</td>\n",
       "      <td>12.55</td>\n",
       "      <td>32539</td>\n",
       "      <td>25385.50</td>\n",
       "    </tr>\n",
       "  </tbody>\n",
       "</table>\n",
       "</div>"
      ],
      "text/plain": [
       "  Item Name Gene  Voxel Count  Mean of Background   Sum of Signal     Signal\n",
       "0        C1    C         1233                12.76           70055  54321.92\n",
       "1        C2    C         1570                14.49           88238  65488.70\n",
       "2        C3    C          807                 9.46           48240  40605.78\n",
       "3        C4    C          696                11.68           40942  32812.72\n",
       "4        C5    C          570                12.55           32539  25385.50"
      ]
     },
     "execution_count": 92,
     "metadata": {},
     "output_type": "execute_result"
    }
   ],
   "source": [
    "geneData.head()"
   ]
  },
  {
   "cell_type": "code",
   "execution_count": 93,
   "metadata": {
    "collapsed": false
   },
   "outputs": [
    {
     "data": {
      "text/plain": [
       "Index(['Item Name', 'Gene', 'Voxel Count', 'Mean of Background ',\n",
       "       'Sum of Signal ', 'Signal'],\n",
       "      dtype='object')"
      ]
     },
     "execution_count": 93,
     "metadata": {},
     "output_type": "execute_result"
    }
   ],
   "source": [
    "geneData.columns"
   ]
  },
  {
   "cell_type": "code",
   "execution_count": 94,
   "metadata": {
    "collapsed": false
   },
   "outputs": [
    {
     "data": {
      "text/html": [
       "<div>\n",
       "<table border=\"1\" class=\"dataframe\">\n",
       "  <thead>\n",
       "    <tr style=\"text-align: right;\">\n",
       "      <th></th>\n",
       "      <th>Voxel Count</th>\n",
       "      <th>Mean of Background</th>\n",
       "      <th>Sum of Signal</th>\n",
       "      <th>Signal</th>\n",
       "    </tr>\n",
       "  </thead>\n",
       "  <tbody>\n",
       "    <tr>\n",
       "      <th>count</th>\n",
       "      <td>119.000000</td>\n",
       "      <td>119.000000</td>\n",
       "      <td>1.190000e+02</td>\n",
       "      <td>1.190000e+02</td>\n",
       "    </tr>\n",
       "    <tr>\n",
       "      <th>mean</th>\n",
       "      <td>10414.588235</td>\n",
       "      <td>12.992269</td>\n",
       "      <td>6.874124e+05</td>\n",
       "      <td>5.018333e+05</td>\n",
       "    </tr>\n",
       "    <tr>\n",
       "      <th>std</th>\n",
       "      <td>16272.906368</td>\n",
       "      <td>4.049264</td>\n",
       "      <td>1.045026e+06</td>\n",
       "      <td>7.058210e+05</td>\n",
       "    </tr>\n",
       "    <tr>\n",
       "      <th>min</th>\n",
       "      <td>15.000000</td>\n",
       "      <td>5.700000</td>\n",
       "      <td>8.530000e+02</td>\n",
       "      <td>7.274500e+02</td>\n",
       "    </tr>\n",
       "    <tr>\n",
       "      <th>25%</th>\n",
       "      <td>723.500000</td>\n",
       "      <td>10.345000</td>\n",
       "      <td>4.297150e+04</td>\n",
       "      <td>3.459487e+04</td>\n",
       "    </tr>\n",
       "    <tr>\n",
       "      <th>50%</th>\n",
       "      <td>3018.000000</td>\n",
       "      <td>12.380000</td>\n",
       "      <td>1.901770e+05</td>\n",
       "      <td>1.471705e+05</td>\n",
       "    </tr>\n",
       "    <tr>\n",
       "      <th>75%</th>\n",
       "      <td>13145.500000</td>\n",
       "      <td>14.810000</td>\n",
       "      <td>9.607865e+05</td>\n",
       "      <td>7.308148e+05</td>\n",
       "    </tr>\n",
       "    <tr>\n",
       "      <th>max</th>\n",
       "      <td>94704.000000</td>\n",
       "      <td>28.150000</td>\n",
       "      <td>5.616275e+06</td>\n",
       "      <td>3.591503e+06</td>\n",
       "    </tr>\n",
       "  </tbody>\n",
       "</table>\n",
       "</div>"
      ],
      "text/plain": [
       "        Voxel Count  Mean of Background   Sum of Signal         Signal\n",
       "count    119.000000           119.000000    1.190000e+02  1.190000e+02\n",
       "mean   10414.588235            12.992269    6.874124e+05  5.018333e+05\n",
       "std    16272.906368             4.049264    1.045026e+06  7.058210e+05\n",
       "min       15.000000             5.700000    8.530000e+02  7.274500e+02\n",
       "25%      723.500000            10.345000    4.297150e+04  3.459487e+04\n",
       "50%     3018.000000            12.380000    1.901770e+05  1.471705e+05\n",
       "75%    13145.500000            14.810000    9.607865e+05  7.308148e+05\n",
       "max    94704.000000            28.150000    5.616275e+06  3.591503e+06"
      ]
     },
     "execution_count": 94,
     "metadata": {},
     "output_type": "execute_result"
    }
   ],
   "source": [
    "#descriptive stats\n",
    "geneData.describe()"
   ]
  },
  {
   "cell_type": "code",
   "execution_count": 95,
   "metadata": {
    "collapsed": false
   },
   "outputs": [
    {
     "data": {
      "text/html": [
       "<div>\n",
       "<table border=\"1\" class=\"dataframe\">\n",
       "  <thead>\n",
       "    <tr style=\"text-align: right;\">\n",
       "      <th></th>\n",
       "      <th>Gene</th>\n",
       "      <th>Signal</th>\n",
       "    </tr>\n",
       "  </thead>\n",
       "  <tbody>\n",
       "    <tr>\n",
       "      <th>0</th>\n",
       "      <td>C</td>\n",
       "      <td>54321.92</td>\n",
       "    </tr>\n",
       "    <tr>\n",
       "      <th>1</th>\n",
       "      <td>C</td>\n",
       "      <td>65488.70</td>\n",
       "    </tr>\n",
       "    <tr>\n",
       "      <th>2</th>\n",
       "      <td>C</td>\n",
       "      <td>40605.78</td>\n",
       "    </tr>\n",
       "    <tr>\n",
       "      <th>3</th>\n",
       "      <td>C</td>\n",
       "      <td>32812.72</td>\n",
       "    </tr>\n",
       "    <tr>\n",
       "      <th>4</th>\n",
       "      <td>C</td>\n",
       "      <td>25385.50</td>\n",
       "    </tr>\n",
       "  </tbody>\n",
       "</table>\n",
       "</div>"
      ],
      "text/plain": [
       "  Gene    Signal\n",
       "0    C  54321.92\n",
       "1    C  65488.70\n",
       "2    C  40605.78\n",
       "3    C  32812.72\n",
       "4    C  25385.50"
      ]
     },
     "execution_count": 95,
     "metadata": {},
     "output_type": "execute_result"
    }
   ],
   "source": [
    "#select gene and signal \n",
    "geneData[['Gene','Signal']].head()"
   ]
  },
  {
   "cell_type": "code",
   "execution_count": 96,
   "metadata": {
    "collapsed": false,
    "scrolled": true
   },
   "outputs": [
    {
     "data": {
      "text/html": [
       "<div>\n",
       "<table border=\"1\" class=\"dataframe\">\n",
       "  <thead>\n",
       "    <tr>\n",
       "      <th></th>\n",
       "      <th colspan=\"3\" halign=\"left\">Signal</th>\n",
       "    </tr>\n",
       "    <tr>\n",
       "      <th></th>\n",
       "      <th>size</th>\n",
       "      <th>mean</th>\n",
       "      <th>std</th>\n",
       "    </tr>\n",
       "    <tr>\n",
       "      <th>Gene</th>\n",
       "      <th></th>\n",
       "      <th></th>\n",
       "      <th></th>\n",
       "    </tr>\n",
       "  </thead>\n",
       "  <tbody>\n",
       "    <tr>\n",
       "      <th>C</th>\n",
       "      <td>12.0</td>\n",
       "      <td>5.513944e+04</td>\n",
       "      <td>3.636462e+04</td>\n",
       "    </tr>\n",
       "    <tr>\n",
       "      <th>G</th>\n",
       "      <td>6.0</td>\n",
       "      <td>6.152128e+04</td>\n",
       "      <td>3.242734e+04</td>\n",
       "    </tr>\n",
       "    <tr>\n",
       "      <th>G INJ</th>\n",
       "      <td>5.0</td>\n",
       "      <td>1.085847e+06</td>\n",
       "      <td>8.794870e+05</td>\n",
       "    </tr>\n",
       "    <tr>\n",
       "      <th>GS</th>\n",
       "      <td>7.0</td>\n",
       "      <td>1.450321e+06</td>\n",
       "      <td>1.174634e+06</td>\n",
       "    </tr>\n",
       "    <tr>\n",
       "      <th>GS INJ</th>\n",
       "      <td>8.0</td>\n",
       "      <td>1.782489e+06</td>\n",
       "      <td>7.492405e+05</td>\n",
       "    </tr>\n",
       "    <tr>\n",
       "      <th>INJ</th>\n",
       "      <td>14.0</td>\n",
       "      <td>1.067277e+06</td>\n",
       "      <td>5.211588e+05</td>\n",
       "    </tr>\n",
       "    <tr>\n",
       "      <th>IR</th>\n",
       "      <td>18.0</td>\n",
       "      <td>4.362124e+04</td>\n",
       "      <td>5.048710e+04</td>\n",
       "    </tr>\n",
       "    <tr>\n",
       "      <th>IR INJ</th>\n",
       "      <td>18.0</td>\n",
       "      <td>5.572993e+05</td>\n",
       "      <td>2.738442e+05</td>\n",
       "    </tr>\n",
       "    <tr>\n",
       "      <th>WT</th>\n",
       "      <td>15.0</td>\n",
       "      <td>3.209895e+04</td>\n",
       "      <td>2.781652e+04</td>\n",
       "    </tr>\n",
       "    <tr>\n",
       "      <th>WT INJ</th>\n",
       "      <td>16.0</td>\n",
       "      <td>1.628770e+05</td>\n",
       "      <td>1.758718e+05</td>\n",
       "    </tr>\n",
       "  </tbody>\n",
       "</table>\n",
       "</div>"
      ],
      "text/plain": [
       "       Signal                            \n",
       "         size          mean           std\n",
       "Gene                                     \n",
       "C        12.0  5.513944e+04  3.636462e+04\n",
       "G         6.0  6.152128e+04  3.242734e+04\n",
       "G INJ     5.0  1.085847e+06  8.794870e+05\n",
       "GS        7.0  1.450321e+06  1.174634e+06\n",
       "GS INJ    8.0  1.782489e+06  7.492405e+05\n",
       "INJ      14.0  1.067277e+06  5.211588e+05\n",
       "IR       18.0  4.362124e+04  5.048710e+04\n",
       "IR INJ   18.0  5.572993e+05  2.738442e+05\n",
       "WT       15.0  3.209895e+04  2.781652e+04\n",
       "WT INJ   16.0  1.628770e+05  1.758718e+05"
      ]
     },
     "execution_count": 96,
     "metadata": {},
     "output_type": "execute_result"
    }
   ],
   "source": [
    "#group by gene and signal, aggregate size, mean, standard dev\n",
    "geneData.groupby('Gene').agg({'Signal':[np.size, np.mean, np.std]})"
   ]
  },
  {
   "cell_type": "code",
   "execution_count": 97,
   "metadata": {
    "collapsed": true
   },
   "outputs": [],
   "source": [
    "graphData=geneData.groupby('Gene').agg({'Signal':[np.size, np.mean, np.std]})"
   ]
  },
  {
   "cell_type": "code",
   "execution_count": 98,
   "metadata": {
    "collapsed": true
   },
   "outputs": [],
   "source": [
    "#plot time\n",
    "%matplotlib inline\n",
    "import matplotlib.pylab as plt"
   ]
  },
  {
   "cell_type": "code",
   "execution_count": 99,
   "metadata": {
    "collapsed": false
   },
   "outputs": [
    {
     "data": {
      "text/plain": [
       "<matplotlib.axes._subplots.AxesSubplot at 0x11738e358>"
      ]
     },
     "execution_count": 99,
     "metadata": {},
     "output_type": "execute_result"
    },
    {
     "data": {
      "image/png": "[encoded data removed]",
      "text/plain": [
       "<matplotlib.figure.Figure at 0x11737ecf8>"
      ]
     },
     "metadata": {},
     "output_type": "display_data"
    }
   ],
   "source": [
    "#boxplot\n",
    "geneData.boxplot(column='Signal', by='Gene', figsize=(20,5))"
   ]
  },
  {
   "cell_type": "code",
   "execution_count": 100,
   "metadata": {
    "collapsed": false,
    "scrolled": true
   },
   "outputs": [
    {
     "data": {
      "text/plain": [
       "array([[<matplotlib.axes._subplots.AxesSubplot object at 0x116f6bc88>,\n",
       "        <matplotlib.axes._subplots.AxesSubplot object at 0x1172ea048>,\n",
       "        <matplotlib.axes._subplots.AxesSubplot object at 0x11704e6d8>],\n",
       "       [<matplotlib.axes._subplots.AxesSubplot object at 0x11756f390>,\n",
       "        <matplotlib.axes._subplots.AxesSubplot object at 0x1175b74e0>,\n",
       "        <matplotlib.axes._subplots.AxesSubplot object at 0x1172a2eb8>],\n",
       "       [<matplotlib.axes._subplots.AxesSubplot object at 0x1171d5ac8>,\n",
       "        <matplotlib.axes._subplots.AxesSubplot object at 0x1170f3cf8>,\n",
       "        <matplotlib.axes._subplots.AxesSubplot object at 0x116fe9f28>],\n",
       "       [<matplotlib.axes._subplots.AxesSubplot object at 0x117417c88>,\n",
       "        <matplotlib.axes._subplots.AxesSubplot object at 0x117b051d0>,\n",
       "        <matplotlib.axes._subplots.AxesSubplot object at 0x117b4e320>]], dtype=object)"
      ]
     },
     "execution_count": 100,
     "metadata": {},
     "output_type": "execute_result"
    },
    {
     "data": {
      "image/png": "[encoded data removed]",
      "text/plain": [
       "<matplotlib.figure.Figure at 0x117237ac8>"
      ]
     },
     "metadata": {},
     "output_type": "display_data"
    }
   ],
   "source": [
    "#looks ok, let's look at a histogram for each gene\n",
    "#plot histogram\n",
    "geneData.hist(column='Signal', by='Gene', bins=10, figsize=(10,10))"
   ]
  },
  {
   "cell_type": "code",
   "execution_count": 101,
   "metadata": {
    "collapsed": false
   },
   "outputs": [
    {
     "data": {
      "text/html": [
       "<div>\n",
       "<table border=\"1\" class=\"dataframe\">\n",
       "  <thead>\n",
       "    <tr>\n",
       "      <th></th>\n",
       "      <th colspan=\"3\" halign=\"left\">Signal</th>\n",
       "    </tr>\n",
       "    <tr>\n",
       "      <th></th>\n",
       "      <th>size</th>\n",
       "      <th>mean</th>\n",
       "      <th>std</th>\n",
       "    </tr>\n",
       "    <tr>\n",
       "      <th>Gene</th>\n",
       "      <th></th>\n",
       "      <th></th>\n",
       "      <th></th>\n",
       "    </tr>\n",
       "  </thead>\n",
       "  <tbody>\n",
       "    <tr>\n",
       "      <th>C</th>\n",
       "      <td>12.0</td>\n",
       "      <td>5.513944e+04</td>\n",
       "      <td>3.636462e+04</td>\n",
       "    </tr>\n",
       "    <tr>\n",
       "      <th>G</th>\n",
       "      <td>6.0</td>\n",
       "      <td>6.152128e+04</td>\n",
       "      <td>3.242734e+04</td>\n",
       "    </tr>\n",
       "    <tr>\n",
       "      <th>G INJ</th>\n",
       "      <td>5.0</td>\n",
       "      <td>1.085847e+06</td>\n",
       "      <td>8.794870e+05</td>\n",
       "    </tr>\n",
       "    <tr>\n",
       "      <th>GS</th>\n",
       "      <td>7.0</td>\n",
       "      <td>1.450321e+06</td>\n",
       "      <td>1.174634e+06</td>\n",
       "    </tr>\n",
       "    <tr>\n",
       "      <th>GS INJ</th>\n",
       "      <td>8.0</td>\n",
       "      <td>1.782489e+06</td>\n",
       "      <td>7.492405e+05</td>\n",
       "    </tr>\n",
       "  </tbody>\n",
       "</table>\n",
       "</div>"
      ],
      "text/plain": [
       "       Signal                            \n",
       "         size          mean           std\n",
       "Gene                                     \n",
       "C        12.0  5.513944e+04  3.636462e+04\n",
       "G         6.0  6.152128e+04  3.242734e+04\n",
       "G INJ     5.0  1.085847e+06  8.794870e+05\n",
       "GS        7.0  1.450321e+06  1.174634e+06\n",
       "GS INJ    8.0  1.782489e+06  7.492405e+05"
      ]
     },
     "execution_count": 101,
     "metadata": {},
     "output_type": "execute_result"
    }
   ],
   "source": [
    "graphData.head()"
   ]
  },
  {
   "cell_type": "code",
   "execution_count": 102,
   "metadata": {
    "collapsed": true
   },
   "outputs": [],
   "source": [
    "# how about a bar graph now to compare means before and after injury\n",
    "n_groups=5\n",
    "means_uninj=(5.51, 6.15, 1.45, 4.36, 3.21)\n",
    "std_uninj=(3.64, 3.24, 1.17, 5.05, 2.78)\n",
    "means_inj=(1.07, 1.09, 1.78, 5.57, 1.63)\n",
    "std_inj=(5.21, 8.79, 7.49, 2.74, 1.76)"
   ]
  },
  {
   "cell_type": "code",
   "execution_count": 103,
   "metadata": {
    "collapsed": false
   },
   "outputs": [
    {
     "data": {
      "image/png": "[encoded data removed]",
      "text/plain": [
       "<matplotlib.figure.Figure at 0x11821eba8>"
      ]
     },
     "metadata": {},
     "output_type": "display_data"
    }
   ],
   "source": [
    "#set up first steps\n",
    "fig, ax = plt.subplots()\n",
    "index=np.arange(n_groups)\n",
    "bar_width=.3\n",
    "opacity=.4\n",
    "error_config={'ecolor': '0.3'}"
   ]
  },
  {
   "cell_type": "code",
   "execution_count": 104,
   "metadata": {
    "collapsed": false
   },
   "outputs": [
    {
     "data": {
      "image/png": "[encoded data removed]",
      "text/plain": [
       "<matplotlib.figure.Figure at 0x1170df630>"
      ]
     },
     "metadata": {},
     "output_type": "display_data"
    }
   ],
   "source": [
    "#fill in the graph\n",
    "rects1 = plt.bar(index, means_uninj, bar_width,\n",
    "                 alpha=opacity,\n",
    "                 color='b',\n",
    "                 yerr=std_uninj,\n",
    "                 error_kw=error_config,\n",
    "                 label='Uninjured')\n",
    "rects2 = plt.bar(index + bar_width, means_inj, bar_width,\n",
    "                 alpha=opacity,\n",
    "                 color='r',\n",
    "                 yerr=std_inj,\n",
    "                 error_kw=error_config,\n",
    "                 label='Injured')\n",
    "plt.xlabel('Genes')\n",
    "plt.ylabel('Fluorescence')\n",
    "plt.title('Genes in Parkinsons')\n",
    "plt.xticks(index + bar_width, ('C','G','GS','IR','WT'))\n",
    "plt.legend()\n",
    "\n",
    "plt.tight_layout()\n",
    "plt.show()"
   ]
  },
  {
   "cell_type": "code",
   "execution_count": 105,
   "metadata": {
    "collapsed": true
   },
   "outputs": [],
   "source": [
    "#std error bars are HUGE for genes G and GS for injured conditions"
   ]
  }
 ],
 "metadata": {
  "kernelspec": {
   "display_name": "Python 3",
   "language": "python",
   "name": "python3"
  },
  "language_info": {
   "codemirror_mode": {
    "name": "ipython",
    "version": 3
   },
   "file_extension": ".py",
   "mimetype": "text/x-python",
   "name": "python",
   "nbconvert_exporter": "python",
   "pygments_lexer": "ipython3",
   "version": "3.5.1"
  }
 },
 "nbformat": 4,
 "nbformat_minor": 0
}
